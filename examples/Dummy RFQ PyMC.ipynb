{
 "cells": [
  {
   "cell_type": "code",
   "execution_count": 1,
   "metadata": {
    "collapsed": false
   },
   "outputs": [
    {
     "name": "stdout",
     "output_type": "stream",
     "text": [
      "Populating the interactive namespace from numpy and matplotlib\n"
     ]
    }
   ],
   "source": [
    "%pylab inline"
   ]
  },
  {
   "cell_type": "code",
   "execution_count": 2,
   "metadata": {
    "collapsed": false
   },
   "outputs": [
    {
     "name": "stdout",
     "output_type": "stream",
     "text": [
      "Couldn't import dot_parser, loading of dot files will not be possible.\n"
     ]
    }
   ],
   "source": [
    "import pymc\n",
    "import numpy as np\n",
    "from scipy.stats import bernoulli"
   ]
  },
  {
   "cell_type": "code",
   "execution_count": 3,
   "metadata": {
    "collapsed": false
   },
   "outputs": [],
   "source": [
    "mu_0, sigma_0 = 0, 2\n",
    "scale_0, shape_0 = 5, 5\n",
    "\n",
    "mu_real = pymc.Normal('mu_real', mu_0, sigma_0)\n",
    "sigma_real = pymc.InverseGamma('sigma_real', shape_0, scale_0)\n",
    "V_real = pymc.Normal('V_real', mu_real, sigma_real, size=1000)\n",
    "W_real = pymc.Normal('W_real', mu_real, sigma_real, size=1000)\n",
    "\n",
    "@pymc.deterministic\n",
    "def S_real(V=V_real, W=W_real):\n",
    "    d = np.array(V > W, dtype=int)\n",
    "    return d\n",
    "\n",
    "\n",
    "def I_logp(value, S, p):\n",
    "    diff = np.array(value == S, dtype=int)\n",
    "    pp = (1 - p) * diff + p * (1 - diff)\n",
    "    return sum(np.log(pp))\n",
    "\n",
    "def I_random(S, p):\n",
    "    b = bernoulli.rvs(p, size=S.shape[0])\n",
    "    value = (S + p) % 2\n",
    "    return value\n",
    "\n",
    "\n",
    "flip_real = pymc.Stochastic( logp = I_logp,\n",
    "                doc = 'Flip the observed value with probability p.',\n",
    "                name = 'flip_real',\n",
    "                parents = {'S': S_real, 'p': 0.01},\n",
    "                random = I_random,\n",
    "                trace = True,\n",
    "                dtype=int,\n",
    "                rseed = 1.,\n",
    "                observed = False,\n",
    "                plot=True,\n",
    "                verbose = 0)"
   ]
  },
  {
   "cell_type": "code",
   "execution_count": 4,
   "metadata": {
    "collapsed": false
   },
   "outputs": [
    {
     "data": {
      "text/plain": [
       "{<pymc.PyMCObjects.Deterministic 'S_real' at 0x10d036710>}"
      ]
     },
     "execution_count": 4,
     "metadata": {},
     "output_type": "execute_result"
    }
   ],
   "source": [
    "W_real.children"
   ]
  },
  {
   "cell_type": "code",
   "execution_count": 5,
   "metadata": {
    "collapsed": false
   },
   "outputs": [
    {
     "name": "stdout",
     "output_type": "stream",
     "text": [
      "-0.402726551197\n",
      "0.652299284311\n",
      "[1 1 0 0 1 1 0 1 1 1]\n",
      "[1 1 0 0 1 1 0 1 1 1]\n"
     ]
    }
   ],
   "source": [
    "print mu_real.value\n",
    "print sigma_real.value\n",
    "print S_real.value[:10]\n",
    "print flip_real.value[:10]"
   ]
  },
  {
   "cell_type": "code",
   "execution_count": 6,
   "metadata": {
    "collapsed": false
   },
   "outputs": [],
   "source": [
    "mu = pymc.Normal('mu', mu_0, sigma_0, value=mu_real.value + 10)\n",
    "sigma = pymc.InverseGamma('sigma', shape_0, scale_0, value=sigma_real.value)\n",
    "V = pymc.Normal('V', mu, sigma, value=V_real.value, observed=True, size=1000)\n",
    "W = pymc.Normal('W', mu, sigma, size=1000)\n",
    "\n",
    "@pymc.deterministic\n",
    "def S(V=V, W=W):\n",
    "    d = np.array(V > W, dtype=int)\n",
    "    return d\n",
    "\n",
    "\n",
    "flip = pymc.Stochastic( logp = I_logp,\n",
    "                doc = 'Flip the observed value with probability p.',\n",
    "                name = 'flip',\n",
    "                parents = {'S': S, 'p': 0.01},\n",
    "                random = I_random,\n",
    "                value = flip_real.value,\n",
    "                trace = True,\n",
    "                dtype = int,\n",
    "                rseed = 1.,\n",
    "                observed = True,\n",
    "                plot = True,\n",
    "                verbose = 0)"
   ]
  },
  {
   "cell_type": "code",
   "execution_count": 7,
   "metadata": {
    "collapsed": false
   },
   "outputs": [
    {
     "name": "stdout",
     "output_type": "stream",
     "text": [
      "set([<pymc.PyMCObjects.Deterministic 'S' at 0x10d054bd0>])\n",
      "set([<pymc.PyMCObjects.Stochastic 'flip' at 0x10d054b50>])\n"
     ]
    }
   ],
   "source": [
    "print W.children\n",
    "print W.extended_children"
   ]
  },
  {
   "cell_type": "code",
   "execution_count": 8,
   "metadata": {
    "collapsed": false
   },
   "outputs": [],
   "source": [
    "model = pymc.Model([mu, sigma, V, W, flip])"
   ]
  },
  {
   "cell_type": "code",
   "execution_count": 9,
   "metadata": {
    "collapsed": false
   },
   "outputs": [
    {
     "name": "stdout",
     "output_type": "stream",
     "text": [
      "-0.402726551197 0.652299284311\n",
      "9.5972734488 0.652299284311\n"
     ]
    }
   ],
   "source": [
    "print mu_real.value, sigma_real.value\n",
    "print mu.value, sigma.value"
   ]
  },
  {
   "cell_type": "code",
   "execution_count": 18,
   "metadata": {
    "collapsed": false
   },
   "outputs": [
    {
     "name": "stdout",
     "output_type": "stream",
     "text": [
      " [-----------------100%-----------------] 100000 of 100000 complete in 22.1 sec"
     ]
    }
   ],
   "source": [
    "mcmc = pymc.MCMC(model)\n",
    "mcmc.sample(100000, burn=0, thin=10)"
   ]
  },
  {
   "cell_type": "code",
   "execution_count": 19,
   "metadata": {
    "collapsed": false
   },
   "outputs": [
    {
     "name": "stdout",
     "output_type": "stream",
     "text": [
      "-0.402726551197 0.652299284311\n",
      "-0.34106608939 0.881282647099\n"
     ]
    }
   ],
   "source": [
    "print mu_real.value, sigma_real.value\n",
    "print mu.value, sigma.value"
   ]
  },
  {
   "cell_type": "code",
   "execution_count": 20,
   "metadata": {
    "collapsed": false
   },
   "outputs": [],
   "source": [
    "mu_samples = mcmc.trace('mu')[:]\n",
    "# sigma_samples = mcmc.trace('sigma')[:]"
   ]
  },
  {
   "cell_type": "code",
   "execution_count": 21,
   "metadata": {
    "collapsed": false
   },
   "outputs": [
    {
     "data": {
      "text/plain": [
       "<matplotlib.lines.Line2D at 0x119473210>"
      ]
     },
     "execution_count": 21,
     "metadata": {},
     "output_type": "execute_result"
    },
    {
     "data": {
      "image/png": "[encoded data removed]",
      "text/plain": [
       "<matplotlib.figure.Figure at 0x10d226090>"
      ]
     },
     "metadata": {},
     "output_type": "display_data"
    }
   ],
   "source": [
    "plt.figure(figsize=(15, 10))\n",
    "plt.subplot(2, 1, 1)\n",
    "plt.plot(mu_samples)\n",
    "plt.axhline(mu_real.value, color='r', linestyle='--')\n",
    "\n",
    "# plt.subplot(2, 1, 2)\n",
    "# plt.plot(sigma_samples)\n",
    "# plt.axhline(sigma_real.value, color='r', linestyle='--')"
   ]
  },
  {
   "cell_type": "code",
   "execution_count": 46,
   "metadata": {
    "collapsed": false
   },
   "outputs": [
    {
     "data": {
      "text/plain": [
       "{<pymc.distributions.InverseGamma 'sigma' at 0x114063190>: {<pymc.distributions.Normal 'W' at 0x114063d90>,\n",
       "  <pymc.distributions.Normal 'V' at 0x114063cd0>,\n",
       "  <pymc.distributions.InverseGamma 'sigma' at 0x114063190>,\n",
       "  <pymc.distributions.Normal 'mu' at 0x113e51a90>},\n",
       " <pymc.distributions.Normal 'mu' at 0x113e51a90>: {<pymc.distributions.Normal 'W' at 0x114063d90>,\n",
       "  <pymc.distributions.Normal 'V' at 0x114063cd0>,\n",
       "  <pymc.distributions.InverseGamma 'sigma' at 0x114063190>,\n",
       "  <pymc.distributions.Normal 'mu' at 0x113e51a90>},\n",
       " <pymc.distributions.Normal 'W' at 0x114063d90>: {<pymc.distributions.Normal 'V' at 0x114063cd0>,\n",
       "  <pymc.distributions.Normal 'mu' at 0x113e51a90>,\n",
       "  <pymc.distributions.Normal 'W' at 0x114063d90>,\n",
       "  <pymc.distributions.InverseGamma 'sigma' at 0x114063190>,\n",
       "  <pymc.PyMCObjects.Stochastic 'flip' at 0x113e89c10>}}"
      ]
     },
     "execution_count": 46,
     "metadata": {},
     "output_type": "execute_result"
    }
   ],
   "source": [
    "mcmc.markov_blanket"
   ]
  },
  {
   "cell_type": "code",
   "execution_count": 47,
   "metadata": {
    "collapsed": false
   },
   "outputs": [
    {
     "data": {
      "text/plain": [
       "{<pymc.distributions.InverseGamma 'sigma' at 0x114063190>: [<pymc.StepMethods.Metropolis at 0x118d51ed0>],\n",
       " <pymc.distributions.Normal 'mu' at 0x113e51a90>: [<pymc.StepMethods.Metropolis at 0x118d51810>],\n",
       " <pymc.distributions.Normal 'W' at 0x114063d90>: [<pymc.StepMethods.Metropolis at 0x113dfa0d0>]}"
      ]
     },
     "execution_count": 47,
     "metadata": {},
     "output_type": "execute_result"
    }
   ],
   "source": [
    "mcmc.step_method_dict"
   ]
  },
  {
   "cell_type": "code",
   "execution_count": 48,
   "metadata": {
    "collapsed": false
   },
   "outputs": [
    {
     "data": {
      "text/plain": [
       "<pymc.StepMethods.Metropolis at 0x113dfa0d0>"
      ]
     },
     "execution_count": 48,
     "metadata": {},
     "output_type": "execute_result"
    }
   ],
   "source": [
    "s = mcmc.step_method_dict[W][0]\n",
    "s"
   ]
  },
  {
   "cell_type": "code",
   "execution_count": 49,
   "metadata": {
    "collapsed": false
   },
   "outputs": [
    {
     "data": {
      "text/plain": [
       "[<pymc.distributions.Normal 'W' at 0x114063d90>,\n",
       " <pymc.PyMCObjects.Stochastic 'flip' at 0x113e89c10>]"
      ]
     },
     "execution_count": 49,
     "metadata": {},
     "output_type": "execute_result"
    }
   ],
   "source": [
    "s.markov_blanket"
   ]
  },
  {
   "cell_type": "code",
   "execution_count": 50,
   "metadata": {
    "collapsed": false
   },
   "outputs": [
    {
     "data": {
      "text/plain": [
       "{<pymc.PyMCObjects.Stochastic 'flip' at 0x113e89c10>}"
      ]
     },
     "execution_count": 50,
     "metadata": {},
     "output_type": "execute_result"
    }
   ],
   "source": [
    "s.children"
   ]
  },
  {
   "cell_type": "code",
   "execution_count": 51,
   "metadata": {
    "collapsed": false
   },
   "outputs": [
    {
     "data": {
      "text/plain": [
       "{<pymc.PyMCObjects.Deterministic 'S' at 0x113e89950>,\n",
       " <pymc.PyMCObjects.Deterministic '(W_lt_sigma)' at 0x118d34350>,\n",
       " <pymc.PyMCObjects.Deterministic '(mu_lt_W)' at 0x113bbe510>,\n",
       " <pymc.PyMCObjects.Deterministic '(W_lt_V)' at 0x118d344d0>,\n",
       " <pymc.PyMCObjects.Deterministic '(mu_lt_W)' at 0x118d34b10>,\n",
       " <pymc.PyMCObjects.Deterministic '(W_lt_V)' at 0x118d34910>,\n",
       " <pymc.PyMCObjects.Deterministic '(mu_lt_W)' at 0x118d34c10>}"
      ]
     },
     "execution_count": 51,
     "metadata": {},
     "output_type": "execute_result"
    }
   ],
   "source": [
    "W.children"
   ]
  },
  {
   "cell_type": "code",
   "execution_count": 26,
   "metadata": {
    "collapsed": false
   },
   "outputs": [
    {
     "data": {
      "text/plain": [
       "{<pymc.PyMCObjects.Deterministic 'S_real' at 0x10e835850>}"
      ]
     },
     "execution_count": 26,
     "metadata": {},
     "output_type": "execute_result"
    }
   ],
   "source": [
    "W_real.children"
   ]
  },
  {
   "cell_type": "code",
   "execution_count": null,
   "metadata": {
    "collapsed": true
   },
   "outputs": [],
   "source": []
  }
 ],
 "metadata": {
  "kernelspec": {
   "display_name": "Python 2",
   "language": "python",
   "name": "python2"
  },
  "language_info": {
   "codemirror_mode": {
    "name": "ipython",
    "version": 2
   },
   "file_extension": ".py",
   "mimetype": "text/x-python",
   "name": "python",
   "nbconvert_exporter": "python",
   "pygments_lexer": "ipython2",
   "version": "2.7.10"
  }
 },
 "nbformat": 4,
 "nbformat_minor": 0
}
