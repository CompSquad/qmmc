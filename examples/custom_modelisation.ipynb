{
 "cells": [
  {
   "cell_type": "code",
   "execution_count": 1,
   "metadata": {
    "collapsed": false
   },
   "outputs": [
    {
     "name": "stdout",
     "output_type": "stream",
     "text": [
      "Populating the interactive namespace from numpy and matplotlib\n"
     ]
    }
   ],
   "source": [
    "%load_ext autoreload\n",
    "%autoreload 2\n",
    "\n",
    "%pylab inline"
   ]
  },
  {
   "cell_type": "markdown",
   "metadata": {},
   "source": [
    "# Extended structured model"
   ]
  },
  {
   "cell_type": "markdown",
   "metadata": {},
   "source": [
    "## Load and format data"
   ]
  },
  {
   "cell_type": "code",
   "execution_count": 2,
   "metadata": {
    "collapsed": true
   },
   "outputs": [],
   "source": [
    "import pandas as pd"
   ]
  },
  {
   "cell_type": "code",
   "execution_count": 3,
   "metadata": {
    "collapsed": false,
    "scrolled": true
   },
   "outputs": [
    {
     "name": "stderr",
     "output_type": "stream",
     "text": [
      "/usr/lib/python2.7/dist-packages/pandas/io/parsers.py:1070: DtypeWarning: Columns (55,56,57,59,66) have mixed types. Specify dtype option on import or set low_memory=False.\n",
      "  data = self._reader.read(nrows)\n"
     ]
    }
   ],
   "source": [
    "df = pd.read_csv(\"/home/jdf/BNPP/Sell_RFQs_250000.csv\")"
   ]
  },
  {
   "cell_type": "markdown",
   "metadata": {},
   "source": [
    "We filter the data loaded above to keep only electronic trades processed by EBNP. Furthermore, we focus on RFQs with `Done`, `TradedAway` or `NotTraded` status."
   ]
  },
  {
   "cell_type": "code",
   "execution_count": 4,
   "metadata": {
    "collapsed": false
   },
   "outputs": [],
   "source": [
    "idx_elec = df[\"VoiceElec\"] == \"ELEC\"\n",
    "idx_venue = df[\"Venue\"] == \"EBNP\"\n",
    "idx_hasmid = ~np.isnan(df[\"RFQCompositeMid\"])\n",
    "idx_buy = df[\"BuySell\"].values == \"Sell\"\n",
    "# idx_ni = df[\"NbDealers\"] == 2\n",
    "# df = df[idx_buy & idx_hasmid & idx_venue & idx_elec & idx_ni]\n",
    "df = df[idx_buy & idx_hasmid & idx_venue & idx_elec]\n",
    "idx_done = df[\"TradeStatus\"].values == \"Done\"\n",
    "idx_traded_away = df[\"TradeStatus\"].values == \"TradedAway\"\n",
    "idx_not_traded = df[\"TradeStatus\"].values == \"NotTraded\""
   ]
  },
  {
   "cell_type": "code",
   "execution_count": 5,
   "metadata": {
    "collapsed": true
   },
   "outputs": [],
   "source": [
    "dd = df[idx_done + idx_traded_away + idx_not_traded]"
   ]
  },
  {
   "cell_type": "code",
   "execution_count": 6,
   "metadata": {
    "collapsed": false
   },
   "outputs": [],
   "source": [
    "ratio = abs(dd[\"BNPPStreamedMid\"] - dd[\"BNPPStreamedQuote\"])\n",
    "data = pd.DataFrame({\n",
    "        'Y': (dd[\"BNPPAnsweredQuote\"] - dd[\"RFQCompositeMid\"]) / ratio,\n",
    "        'C1': (dd[\"CoverPrice\"] - dd[\"RFQCompositeMid\"]) / ratio,\n",
    "        'C2': (dd[\"CoverPrice2\"] - dd[\"RFQCompositeMid\"]) / ratio,\n",
    "        'C3': (dd[\"CoverPrice3\"] - dd[\"RFQCompositeMid\"]) / ratio,\n",
    "        'C4': (dd[\"CoverPrice4\"] - dd[\"RFQCompositeMid\"]) / ratio,\n",
    "        'C5': (dd[\"CoverPrice5\"] - dd[\"RFQCompositeMid\"]) / ratio,\n",
    "        'I': dd['TradeStatus'],\n",
    "        'n': dd['NbDealers'] - 1,\n",
    "        'r': ratio\n",
    "    })\n",
    "data['k'] = np.sum(~np.isnan(data[['C1', 'C2', 'C3', 'C4', 'C5']]), axis=1)"
   ]
  },
  {
   "cell_type": "code",
   "execution_count": 7,
   "metadata": {
    "collapsed": true
   },
   "outputs": [],
   "source": [
    "idx_Y = (data['Y'] > -3)  & (data['Y'] < 5)\n",
    "idx_C = ((data['C1'] > -3)  & (data['C1'] < 5)) | np.isnan(data['C1'])\n",
    "idx_r = data['r'] > 0.1\n",
    "data = data[idx_Y & idx_C & idx_r]\n",
    "data = data.reset_index(drop=True)"
   ]
  },
  {
   "cell_type": "code",
   "execution_count": 8,
   "metadata": {
    "collapsed": false
   },
   "outputs": [
    {
     "data": {
      "text/html": [
       "<div style=\"max-height:1000px;max-width:1500px;overflow:auto;\">\n",
       "<table border=\"1\" class=\"dataframe\">\n",
       "  <thead>\n",
       "    <tr style=\"text-align: right;\">\n",
       "      <th></th>\n",
       "      <th>C1</th>\n",
       "      <th>C2</th>\n",
       "      <th>C3</th>\n",
       "      <th>C4</th>\n",
       "      <th>C5</th>\n",
       "      <th>Y</th>\n",
       "      <th>n</th>\n",
       "      <th>r</th>\n",
       "      <th>k</th>\n",
       "    </tr>\n",
       "  </thead>\n",
       "  <tbody>\n",
       "    <tr>\n",
       "      <th>count</th>\n",
       "      <td> 25086.000000</td>\n",
       "      <td> 1501.000000</td>\n",
       "      <td> 884.000000</td>\n",
       "      <td> 387.000000</td>\n",
       "      <td> 102.000000</td>\n",
       "      <td> 170677.000000</td>\n",
       "      <td> 170677.000000</td>\n",
       "      <td> 170677.000000</td>\n",
       "      <td> 170677.000000</td>\n",
       "    </tr>\n",
       "    <tr>\n",
       "      <th>mean</th>\n",
       "      <td>    -0.857084</td>\n",
       "      <td>   -1.266277</td>\n",
       "      <td>  -1.473140</td>\n",
       "      <td>  -1.576906</td>\n",
       "      <td>  -1.703862</td>\n",
       "      <td>     -0.818517</td>\n",
       "      <td>      3.806113</td>\n",
       "      <td>      0.287338</td>\n",
       "      <td>      0.163818</td>\n",
       "    </tr>\n",
       "    <tr>\n",
       "      <th>std</th>\n",
       "      <td>     0.721497</td>\n",
       "      <td>    1.195514</td>\n",
       "      <td>   1.240245</td>\n",
       "      <td>   1.127252</td>\n",
       "      <td>   1.133865</td>\n",
       "      <td>      0.737628</td>\n",
       "      <td>      1.558423</td>\n",
       "      <td>      0.427081</td>\n",
       "      <td>      0.440085</td>\n",
       "    </tr>\n",
       "    <tr>\n",
       "      <th>min</th>\n",
       "      <td>    -3.000000</td>\n",
       "      <td>  -21.432900</td>\n",
       "      <td> -10.746667</td>\n",
       "      <td>  -7.342544</td>\n",
       "      <td>  -5.810133</td>\n",
       "      <td>     -3.000000</td>\n",
       "      <td>      0.000000</td>\n",
       "      <td>      0.100000</td>\n",
       "      <td>      0.000000</td>\n",
       "    </tr>\n",
       "    <tr>\n",
       "      <th>25%</th>\n",
       "      <td>    -1.234819</td>\n",
       "      <td>   -1.586000</td>\n",
       "      <td>  -1.804700</td>\n",
       "      <td>  -2.014620</td>\n",
       "      <td>  -2.089812</td>\n",
       "      <td>     -1.193280</td>\n",
       "      <td>      3.000000</td>\n",
       "      <td>      0.162000</td>\n",
       "      <td>      0.000000</td>\n",
       "    </tr>\n",
       "    <tr>\n",
       "      <th>50%</th>\n",
       "      <td>    -0.771200</td>\n",
       "      <td>   -0.984000</td>\n",
       "      <td>  -1.155570</td>\n",
       "      <td>  -1.278717</td>\n",
       "      <td>  -1.515200</td>\n",
       "      <td>     -0.777593</td>\n",
       "      <td>      4.000000</td>\n",
       "      <td>      0.250000</td>\n",
       "      <td>      0.000000</td>\n",
       "    </tr>\n",
       "    <tr>\n",
       "      <th>75%</th>\n",
       "      <td>    -0.417600</td>\n",
       "      <td>   -0.613333</td>\n",
       "      <td>  -0.747855</td>\n",
       "      <td>  -0.803247</td>\n",
       "      <td>  -0.876007</td>\n",
       "      <td>     -0.417391</td>\n",
       "      <td>      5.000000</td>\n",
       "      <td>      0.344000</td>\n",
       "      <td>      0.000000</td>\n",
       "    </tr>\n",
       "    <tr>\n",
       "      <th>max</th>\n",
       "      <td>     4.834520</td>\n",
       "      <td>    2.168000</td>\n",
       "      <td>   1.139259</td>\n",
       "      <td>   0.452840</td>\n",
       "      <td>   0.408395</td>\n",
       "      <td>      4.975704</td>\n",
       "      <td>      5.000000</td>\n",
       "      <td>    106.375000</td>\n",
       "      <td>      5.000000</td>\n",
       "    </tr>\n",
       "  </tbody>\n",
       "</table>\n",
       "<p>8 rows × 9 columns</p>\n",
       "</div>"
      ],
      "text/plain": [
       "                 C1           C2          C3          C4          C5  \\\n",
       "count  25086.000000  1501.000000  884.000000  387.000000  102.000000   \n",
       "mean      -0.857084    -1.266277   -1.473140   -1.576906   -1.703862   \n",
       "std        0.721497     1.195514    1.240245    1.127252    1.133865   \n",
       "min       -3.000000   -21.432900  -10.746667   -7.342544   -5.810133   \n",
       "25%       -1.234819    -1.586000   -1.804700   -2.014620   -2.089812   \n",
       "50%       -0.771200    -0.984000   -1.155570   -1.278717   -1.515200   \n",
       "75%       -0.417600    -0.613333   -0.747855   -0.803247   -0.876007   \n",
       "max        4.834520     2.168000    1.139259    0.452840    0.408395   \n",
       "\n",
       "                   Y              n              r              k  \n",
       "count  170677.000000  170677.000000  170677.000000  170677.000000  \n",
       "mean       -0.818517       3.806113       0.287338       0.163818  \n",
       "std         0.737628       1.558423       0.427081       0.440085  \n",
       "min        -3.000000       0.000000       0.100000       0.000000  \n",
       "25%        -1.193280       3.000000       0.162000       0.000000  \n",
       "50%        -0.777593       4.000000       0.250000       0.000000  \n",
       "75%        -0.417391       5.000000       0.344000       0.000000  \n",
       "max         4.975704       5.000000     106.375000       5.000000  \n",
       "\n",
       "[8 rows x 9 columns]"
      ]
     },
     "execution_count": 8,
     "metadata": {},
     "output_type": "execute_result"
    }
   ],
   "source": [
    "data.describe()"
   ]
  },
  {
   "cell_type": "code",
   "execution_count": 9,
   "metadata": {
    "collapsed": false
   },
   "outputs": [
    {
     "data": {
      "image/png": "[encoded data removed]",
      "text/plain": [
       "<matplotlib.figure.Figure at 0x7f3b62964cd0>"
      ]
     },
     "metadata": {},
     "output_type": "display_data"
    }
   ],
   "source": [
    "c = 'C2'\n",
    "plt.hist(data[c][~np.isnan(data[c])].values, bins=100)\n",
    "plt.show()"
   ]
  },
  {
   "cell_type": "markdown",
   "metadata": {},
   "source": [
    "Next we only keep a sample of RFQs (that are consistent with the hypotheses in the model) to speed up the estimation procedure."
   ]
  },
  {
   "cell_type": "code",
   "execution_count": 10,
   "metadata": {
    "collapsed": false
   },
   "outputs": [],
   "source": [
    "train_idx = np.random.choice(data.shape[0] - 1, size=500, replace=False)\n",
    "d = data.ix[train_idx, :]"
   ]
  },
  {
   "cell_type": "code",
   "execution_count": 11,
   "metadata": {
    "collapsed": false
   },
   "outputs": [
    {
     "name": "stdout",
     "output_type": "stream",
     "text": [
      "57 (500, 10)\n"
     ]
    }
   ],
   "source": [
    "# Remove inconsistent RFQs\n",
    "idx_usable = ~(np.min(d.ix[:, ['C1', 'C2', 'C3', 'C4', 'C5']], axis=1) < d['Y'])\n",
    "print sum(~idx_usable), d.shape\n",
    "d = d[idx_usable]\n",
    "\n",
    "Y_real = d['Y'].values\n",
    "k_real = d['k'].values\n",
    "n_real = d['n'].values\n",
    "C_real = d[['C1', 'C2', 'C3', 'C4', 'C5']].values\n",
    "\n",
    "def IMap(v):\n",
    "    if v == 'Done': return 2\n",
    "    elif v == 'TradedAway': return 1\n",
    "    elif v == 'NotTraded': return 0\n",
    "    else:\n",
    "        print v\n",
    "        raise ValueError()\n",
    "I_real = np.array([IMap(v) for v in d['I'].values])"
   ]
  },
  {
   "cell_type": "code",
   "execution_count": 12,
   "metadata": {
    "collapsed": false
   },
   "outputs": [
    {
     "name": "stdout",
     "output_type": "stream",
     "text": [
      "47 300 96\n",
      "443\n"
     ]
    }
   ],
   "source": [
    "print sum(d['I'] == 'Done'), sum(d['I'] == 'TradedAway'), sum(d['I'] == 'NotTraded')\n",
    "print sum(d['I'] == 'Done')  + sum(d['I'] == 'TradedAway') + sum(d['I'] == 'NotTraded')"
   ]
  },
  {
   "cell_type": "markdown",
   "metadata": {},
   "source": [
    "## Building the model graph"
   ]
  },
  {
   "cell_type": "code",
   "execution_count": 13,
   "metadata": {
    "collapsed": false
   },
   "outputs": [],
   "source": [
    "from minipgm.variables import Value, Function\n",
    "from minipgm.variables import Binomial, Normal, InvGamma, Uniform, Beta\n",
    "\n",
    "from qmmc.variables import BernoulliSEP, BernoulliFlip\n",
    "from qmmc.samplers.sampler_default import KVWSampler"
   ]
  },
  {
   "cell_type": "code",
   "execution_count": 14,
   "metadata": {
    "collapsed": false
   },
   "outputs": [],
   "source": [
    "# Priors\n",
    "mu_0, sigma_0 = Value(0), Value(10)\n",
    "scale_0, shape_0 = Value(3), Value(3)\n",
    "a_0, b_0 = Value(1), Value(1)\n",
    "lower_0, upper_0 = Value(1), Value(3)\n",
    "\n",
    "# Parameters\n",
    "mu_V = Normal(mu_0, sigma_0, value=0, name='mu_V')\n",
    "sigma_V = InvGamma(scale_0, shape_0, value=0.5, name='sigma_V')\n",
    "\n",
    "mu_W = Normal(mu_0, sigma_0, value=0, name='mu_W')\n",
    "sigma_W = InvGamma(scale_0, shape_0, value=3, name='sigma_W')\n",
    "nu_W = Normal(mu_0, sigma_0, value=1, name='nu_W')\n",
    "tau_W = Uniform(lower_0, upper_0, value=1.5, name='tau_W')\n",
    "\n",
    "p = Beta(a_0, b_0, value=.5, name='p')\n",
    "\n",
    "# Variables\n",
    "m = len(Y_real)\n",
    "k = np.empty(m, dtype=object)\n",
    "V = np.empty(m, dtype=object)\n",
    "W = np.empty(m, dtype=object)\n",
    "Y = np.empty(m, dtype=object)\n",
    "I = np.empty(m, dtype=object)\n",
    "S = np.empty(m, dtype=object)\n",
    "for i in xrange(m):\n",
    "    V[i] = Normal(mu_V, sigma_V, name='V_%d' % i)\n",
    "    # DONE case\n",
    "    if I_real[i] == 2:\n",
    "        k[i] = Binomial(p, Value(n_real[i]), value=k_real[i], observed=True, name='k_%d' % i)\n",
    "        W[i] = BernoulliSEP(mu_W, sigma_W, nu_W, tau_W, k[i], value=C_real[i, :k_real[i]], observed=True, name='W_%d' % i)\n",
    "    # Other cases\n",
    "    else:\n",
    "        k[i] = Binomial(p, Value(n_real[i]), name='k_%d' % i)\n",
    "        W[i] = BernoulliSEP(mu_W, sigma_W, nu_W, tau_W, k[i], name='W_%d' % i)\n",
    "        \n",
    "    Y[i] = Value(Y_real[i])\n",
    "    \n",
    "    if dd[\"BuySell\"][0] == \"Buy\":\n",
    "        @Function\n",
    "        def S_i(Y=Y[i], V=V[i], W=W[i]):\n",
    "\n",
    "            if len(W) > 0:\n",
    "                C = np.min(W)\n",
    "            else:\n",
    "                C = np.inf\n",
    "\n",
    "            if Y <= np.minimum(C, V): return 2 # Done\n",
    "            if C <= np.minimum(Y, V): return 1 # Traded away\n",
    "            if V < np.minimum(C, Y): return 0 # Not traded\n",
    "    else:\n",
    "        @Function\n",
    "        def S_i(Y=Y[i], V=V[i], W=W[i]):\n",
    "\n",
    "            if len(W) > 0:\n",
    "                C = np.max(W)\n",
    "            else:\n",
    "                C = -np.inf\n",
    "\n",
    "            if Y >= np.maximum(C, V): return 2 # Done\n",
    "            if C >= np.maximum(Y, V): return 1 # Traded away\n",
    "            if V > np.maximum(C, Y): return 0 # Not traded\n",
    "    \n",
    "    S[i] = S_i\n",
    "    I[i] = BernoulliFlip(Value(0.0), S[i], k=3, value=I_real[i], observed=True, name='I_%d' % i)"
   ]
  },
  {
   "cell_type": "markdown",
   "metadata": {},
   "source": [
    "## Choose variables to sample and assign custom samplers"
   ]
  },
  {
   "cell_type": "code",
   "execution_count": 16,
   "metadata": {
    "collapsed": false
   },
   "outputs": [],
   "source": [
    "from qmmc.samplers.sampler_default import VSampler, KVWSampler\n",
    "from minipgm import Model"
   ]
  },
  {
   "cell_type": "code",
   "execution_count": 17,
   "metadata": {
    "collapsed": false
   },
   "outputs": [],
   "source": [
    "# We add all variables to be sampled to the model\n",
    "all_variables = [mu_V, sigma_V, mu_W, sigma_W, nu_W, tau_W, p]\n",
    "all_variables.extend(V)\n",
    "all_variables.extend(W)"
   ]
  },
  {
   "cell_type": "code",
   "execution_count": 18,
   "metadata": {
    "collapsed": false
   },
   "outputs": [],
   "source": [
    "# V, k and W have custom samplers used to speed up convergence\n",
    "v_samplers = [VSampler(V[i]) for i in xrange(m) if W[i]._observed] #cas Done. on observe W , on tire juste V selon une gaussienne tronauee\n",
    "kvw_samplers = [KVWSampler(k[i], V[i], W[i], Y[i], I[i], \"Sell\") for i in range(m) if not W[i]._observed] # autres cas\n",
    "all_samplers = v_samplers + kvw_samplers"
   ]
  },
  {
   "cell_type": "code",
   "execution_count": 19,
   "metadata": {
    "collapsed": false
   },
   "outputs": [],
   "source": [
    "model = Model(variables=all_variables, samplers=all_samplers)"
   ]
  },
  {
   "cell_type": "code",
   "execution_count": 20,
   "metadata": {
    "collapsed": false
   },
   "outputs": [
    {
     "name": "stdout",
     "output_type": "stream",
     "text": [
      "0% 100%\n",
      "CPU times: user 13.6 s, sys: 43.5 ms, total: 13.7 s\n",
      "Wall time: 14.3 s\n"
     ]
    }
   ],
   "source": [
    "%%time\n",
    "model.estimate(10) "
   ]
  },
  {
   "cell_type": "markdown",
   "metadata": {},
   "source": [
    "## Results"
   ]
  },
  {
   "cell_type": "code",
   "execution_count": 21,
   "metadata": {
    "collapsed": false
   },
   "outputs": [
    {
     "data": {
      "image/png": "[encoded data removed]",
      "text/plain": [
       "<matplotlib.figure.Figure at 0x7f3b4a0e8390>"
      ]
     },
     "metadata": {},
     "output_type": "display_data"
    }
   ],
   "source": [
    "plt.figure(figsize=(15, 10))\n",
    "\n",
    "plt.subplot(2, 2, 1)\n",
    "plt.plot(model.logp_hist)\n",
    "plt.title(\"Complete likelihood trace\")\n",
    "\n",
    "plt.subplot(2, 2, 2)\n",
    "mu_V_trace = model.samplers['mu_V'].get_history()\n",
    "sigma_V_trace = model.samplers['sigma_V'].get_history()\n",
    "plt.plot(mu_V_trace)\n",
    "plt.plot(sigma_V_trace)\n",
    "plt.legend([r\"$\\mu_V$\", r\"$\\sigma_V$\"], loc='best')\n",
    "plt.title(r\"Trace of $\\mu_V$ & $\\sigma_V$\")\n",
    "\n",
    "plt.subplot(2, 2, 3)\n",
    "mu_W_trace = model.samplers['mu_W'].get_history()\n",
    "sigma_W_trace = model.samplers['sigma_W'].get_history()\n",
    "nu_W_trace = model.samplers['nu_W'].get_history()\n",
    "tau_W_trace = model.samplers['tau_W'].get_history()\n",
    "plt.plot(mu_W_trace)\n",
    "plt.plot(sigma_W_trace)\n",
    "plt.plot(nu_W_trace)\n",
    "plt.plot(tau_W_trace)\n",
    "plt.legend([r\"$\\mu_W$\", r\"$\\sigma_W$\", r\"$\\nu_W$\", r\"$\\tau_W$\"], loc='best')\n",
    "plt.title(r\"Trace of $\\nu_W$ & $\\tau_W$\")\n",
    "\n",
    "plt.subplot(2, 2, 4)\n",
    "p_trace = model.samplers['p'].get_history()\n",
    "plt.plot(p_trace)\n",
    "plt.title(r\"Trace of $p$\")\n",
    "\n",
    "plt.suptitle(r\"Traces\", size=18)\n",
    "plt.show()"
   ]
  },
  {
   "cell_type": "code",
   "execution_count": 22,
   "metadata": {
    "collapsed": false
   },
   "outputs": [
    {
     "data": {
      "image/png": "[encoded data removed]",
      "text/plain": [
       "<matplotlib.figure.Figure at 0x7f3b626f4790>"
      ]
     },
     "metadata": {},
     "output_type": "display_data"
    }
   ],
   "source": [
    "from minipgm.distributions import sep_logpdf\n",
    "\n",
    "from scipy.stats import norm\n",
    "\n",
    "n_burn = 0\n",
    "mu_W_avg = np.mean(mu_W_trace[n_burn:])\n",
    "sigma_W_avg = np.mean(sigma_W_trace[n_burn:])\n",
    "nu_W_avg = np.mean(nu_W_trace[n_burn:])\n",
    "tau_W_avg = np.mean(tau_W_trace[n_burn:])\n",
    "\n",
    "mu_V_avg = np.mean(mu_V_trace[n_burn:])\n",
    "sigma_V_avg = np.mean(sigma_V_trace[n_burn:])\n",
    "p_avg = np.mean(p_trace[n_burn:])\n",
    "\n",
    "plt.figure(figsize=(15, 5))\n",
    "\n",
    "xx = np.linspace(-3, 5, 1000)\n",
    "\n",
    "plt.plot(xx, np.exp(sep_logpdf(xx, mu_W_avg, sigma_W_avg, nu_W_avg, tau_W_avg)), color='b')\n",
    "plt.plot(xx, norm.pdf(xx, mu_V_avg, sigma_V_avg), color='r')\n",
    "plt.hist(data['Y'].values, bins=100, normed=True, alpha=0.2)\n",
    "\n",
    "plt.legend(['W', 'V'])\n",
    "plt.title(r\"SEP model with $p = %s$\" % p_avg, size=18)\n",
    "plt.show()"
   ]
  },
  {
   "cell_type": "code",
   "execution_count": 22,
   "metadata": {
    "collapsed": true
   },
   "outputs": [],
   "source": [
    "dsave = pd.DataFrame({\"mu_V\": mu_V_trace, \"sigma_V\": sigma_V_trace, \"mu_W\": mu_W_trace, \"sigma_W\": sigma_W_trace,\n",
    "                  \"nu_W\": nu_W_trace, \"tau_W\": tau_W_trace})"
   ]
  },
  {
   "cell_type": "code",
   "execution_count": 23,
   "metadata": {
    "collapsed": false
   },
   "outputs": [],
   "source": [
    "dsave.to_csv(\"/home/jdf/BNPP/BBG_ratio2.csv\")"
   ]
  },
  {
   "cell_type": "code",
   "execution_count": null,
   "metadata": {
    "collapsed": true
   },
   "outputs": [],
   "source": []
  }
 ],
 "metadata": {
  "kernelspec": {
   "display_name": "Python 2",
   "language": "python",
   "name": "python2"
  },
  "language_info": {
   "codemirror_mode": {
    "name": "ipython",
    "version": 2
   },
   "file_extension": ".py",
   "mimetype": "text/x-python",
   "name": "python",
   "nbconvert_exporter": "python",
   "pygments_lexer": "ipython2",
   "version": "2.7.6"
  }
 },
 "nbformat": 4,
 "nbformat_minor": 0
}
