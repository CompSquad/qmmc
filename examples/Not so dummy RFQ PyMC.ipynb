{
 "cells": [
  {
   "cell_type": "code",
   "execution_count": 1,
   "metadata": {
    "collapsed": false
   },
   "outputs": [
    {
     "name": "stdout",
     "output_type": "stream",
     "text": [
      "Populating the interactive namespace from numpy and matplotlib\n"
     ]
    }
   ],
   "source": [
    "%pylab inline"
   ]
  },
  {
   "cell_type": "code",
   "execution_count": 2,
   "metadata": {
    "collapsed": false
   },
   "outputs": [
    {
     "name": "stdout",
     "output_type": "stream",
     "text": [
      "Couldn't import dot_parser, loading of dot files will not be possible.\n"
     ]
    }
   ],
   "source": [
    "import pymc\n",
    "import numpy as np\n",
    "from scipy.stats import bernoulli"
   ]
  },
  {
   "cell_type": "code",
   "execution_count": 3,
   "metadata": {
    "collapsed": false
   },
   "outputs": [],
   "source": [
    "mu_0, sigma_0 = 0, 2\n",
    "scale_0, shape_0 = 5, 3\n",
    "size = 2000\n",
    "\n",
    "mu_V_real = pymc.Normal('mu_V_real', mu_0, sigma_0)\n",
    "sigma_V_real = pymc.InverseGamma('sigma_V_real', shape_0, scale_0)\n",
    "V_real = pymc.Normal('V_real', mu_V_real, sigma_V_real, size=size)\n",
    "\n",
    "mu_WY_real = pymc.Normal('mu_WY_real', mu_0, sigma_0)\n",
    "sigma_WY_real = pymc.InverseGamma('sigma_WY_real', shape_0, scale_0)\n",
    "W_real = pymc.Normal('W_real', mu_WY_real, sigma_WY_real, size=size)\n",
    "Y_real = pymc.Normal('Y_real', mu_WY_real, sigma_WY_real, size=size)\n",
    "\n",
    "@pymc.deterministic\n",
    "def S_real(Y=Y_real, V=V_real, W=W_real):\n",
    "    d = np.zeros(Y.shape[0], dtype=int)\n",
    "    d[V > np.minimum(Y, W)] = 1\n",
    "    d[Y < W] *= 2\n",
    "    return d\n",
    "\n",
    "\n",
    "def I_logp(value, S, p):\n",
    "    diff = np.array(value == S, dtype=int)\n",
    "    pp = (1 - p) * diff + p * (1 - diff)\n",
    "    return sum(np.log(pp))\n",
    "\n",
    "def I_random(S, p):\n",
    "    b = bernoulli.rvs(p, size=S.shape[0])\n",
    "    value = (S + p) % 3\n",
    "    return value\n",
    "\n",
    "\n",
    "flip_real = pymc.Stochastic( logp = I_logp,\n",
    "                doc = 'Flip the observed value with probability p.',\n",
    "                name = 'flip_real',\n",
    "                parents = {'S': S_real, 'p': 0.01},\n",
    "                random = I_random,\n",
    "                trace = True,\n",
    "                dtype=int,\n",
    "                rseed = 1.,\n",
    "                observed = False,\n",
    "                plot=True,\n",
    "                verbose = 0)"
   ]
  },
  {
   "cell_type": "code",
   "execution_count": 4,
   "metadata": {
    "collapsed": false
   },
   "outputs": [
    {
     "name": "stdout",
     "output_type": "stream",
     "text": [
      "-0.384881193694 2.62711693346\n",
      "-0.662401187534 1.18005951623\n",
      "[2 1 0 1 1 1 2 1 0 1 0 0 2 2 1 2 1 2 0 2 1 1 1 2 1 0 0 2 1 1 0 1 2 2 2 0 1\n",
      " 2 2 1 0 2 2 0 2 2 1 2 1 1]\n",
      "[2 1 0 1 1 1 2 1 0 1 0 0 2 2 1 2 1 2 0 2 1 1 1 2 1 0 0 2 1 1 0 1 2 2 2 0 1\n",
      " 2 2 1 0 2 2 0 2 2 1 2 1 1]\n"
     ]
    }
   ],
   "source": [
    "print mu_V_real.value, sigma_V_real.value\n",
    "print mu_WY_real.value, sigma_WY_real.value\n",
    "print S_real.value[:50]\n",
    "print flip_real.value[:50]"
   ]
  },
  {
   "cell_type": "code",
   "execution_count": 5,
   "metadata": {
    "collapsed": false
   },
   "outputs": [],
   "source": [
    "mu_V = pymc.Normal('mu_V', mu_0, sigma_0, value=mu_V_real.value + 1)\n",
    "sigma_V = pymc.InverseGamma('sigma_V', shape_0, scale_0, value=sigma_V_real + 1)\n",
    "V = pymc.Normal('V', mu_V, sigma_V, size=size)\n",
    "\n",
    "mu_WY = pymc.Normal('mu_WY', mu_0, sigma_0, value=mu_WY_real.value + 1)\n",
    "sigma_WY = pymc.InverseGamma('sigma_WY', shape_0, scale_0, value=sigma_WY_real.value + 1)\n",
    "W = pymc.Normal('W', mu_WY, sigma_WY, size=size)\n",
    "Y = pymc.Normal('Y', mu_WY, sigma_WY, value=Y_real.value, observed=True, size=size)\n",
    "\n",
    "@pymc.deterministic\n",
    "def S(Y=Y, V=V, W=W):\n",
    "    d = np.zeros(Y.shape[0], dtype=int)\n",
    "    d[V > np.minimum(Y, W)] = 1\n",
    "    d[Y < W] *= 2\n",
    "    return d\n",
    "\n",
    "flip = pymc.Stochastic( logp = I_logp,\n",
    "                doc = 'Flip the observed value with probability p.',\n",
    "                name = 'flip',\n",
    "                parents = {'S': S, 'p': 0.01},\n",
    "                random = I_random,\n",
    "                trace = True,\n",
    "                dtype=int,\n",
    "                rseed = 1.,\n",
    "                value = flip_real.value,\n",
    "                observed = True,\n",
    "                plot=True,\n",
    "                verbose = 0)"
   ]
  },
  {
   "cell_type": "code",
   "execution_count": 6,
   "metadata": {
    "collapsed": false
   },
   "outputs": [],
   "source": [
    "model = pymc.Model([mu_V, sigma_V, V, mu_WY, sigma_WY, W, Y, S, flip])"
   ]
  },
  {
   "cell_type": "code",
   "execution_count": 7,
   "metadata": {
    "collapsed": false
   },
   "outputs": [
    {
     "name": "stdout",
     "output_type": "stream",
     "text": [
      "-0.384881193694 2.62711693346\n",
      "0.615118806306 3.62711693346\n",
      "\n",
      "-0.662401187534 1.18005951623\n",
      "0.337598812466 2.18005951623\n"
     ]
    }
   ],
   "source": [
    "print mu_V_real.value, sigma_V_real.value\n",
    "print mu_V.value, sigma_V.value\n",
    "print \"\"\n",
    "print mu_WY_real.value, sigma_WY_real.value\n",
    "print mu_WY.value, sigma_WY.value"
   ]
  },
  {
   "cell_type": "code",
   "execution_count": 8,
   "metadata": {
    "collapsed": false
   },
   "outputs": [
    {
     "name": "stdout",
     "output_type": "stream",
     "text": [
      "[2 2 1 1 1 2 2 2 1 1 2 1 2 2 1 2 2 2 2 2 2 2 2 2 0 0 1 2 2 2]\n",
      "[2 1 0 1 1 1 2 1 0 1 0 0 2 2 1 2 1 2 0 2 1 1 1 2 1 0 0 2 1 1]\n",
      "[2 1 0 1 1 1 2 1 0 1 0 0 2 2 1 2 1 2 0 2 1 1 1 2 1 0 0 2 1 1]\n"
     ]
    }
   ],
   "source": [
    "f = 30\n",
    "print S.value[:f]\n",
    "print flip.value[:f]\n",
    "print flip_real.value[:f]"
   ]
  },
  {
   "cell_type": "code",
   "execution_count": 9,
   "metadata": {
    "collapsed": false
   },
   "outputs": [
    {
     "name": "stdout",
     "output_type": "stream",
     "text": [
      " [-----------------100%-----------------] 50000 of 50000 complete in 35.7 sec"
     ]
    }
   ],
   "source": [
    "mcmc = pymc.MCMC(model)\n",
    "mcmc.sample(50000, burn=0, thin=10)"
   ]
  },
  {
   "cell_type": "code",
   "execution_count": 10,
   "metadata": {
    "collapsed": false
   },
   "outputs": [
    {
     "name": "stdout",
     "output_type": "stream",
     "text": [
      "[2 2 1 1 1 1 2 2 1 1 2 0 2 2 1 2 2 2 2 2 2 2 2 2 2 0 0 2 2 2]\n",
      "[2 1 0 1 1 1 2 1 0 1 0 0 2 2 1 2 1 2 0 2 1 1 1 2 1 0 0 2 1 1]\n",
      "[2 1 0 1 1 1 2 1 0 1 0 0 2 2 1 2 1 2 0 2 1 1 1 2 1 0 0 2 1 1]\n"
     ]
    }
   ],
   "source": [
    "f = 30\n",
    "print S.value[:f]\n",
    "print flip.value[:f]\n",
    "print flip_real.value[:f]"
   ]
  },
  {
   "cell_type": "code",
   "execution_count": 11,
   "metadata": {
    "collapsed": false
   },
   "outputs": [],
   "source": [
    "mu_V_samples = mcmc.trace('mu_V')[:]\n",
    "sigma_V_samples = mcmc.trace('sigma_V')[:]\n",
    "\n",
    "mu_WY_samples = mcmc.trace('mu_WY')[:]\n",
    "sigma_WY_samples = mcmc.trace('sigma_WY')[:]"
   ]
  },
  {
   "cell_type": "code",
   "execution_count": 12,
   "metadata": {
    "collapsed": false
   },
   "outputs": [
    {
     "data": {
      "image/png": "[encoded data removed]",
      "text/plain": [
       "<matplotlib.figure.Figure at 0x107ddf210>"
      ]
     },
     "metadata": {},
     "output_type": "display_data"
    }
   ],
   "source": [
    "plt.figure(figsize=(15, 10))\n",
    "plt.subplot(2, 2, 1)\n",
    "plt.plot(mu_V_samples)\n",
    "plt.plot(sigma_V_samples)\n",
    "plt.axhline(mu_V_real.value, linestyle='--')\n",
    "plt.axhline(sigma_V_real.value, color='g', linestyle='--')\n",
    "plt.legend([r\"$\\mu_V$\", r\"$\\sigma_V$\"], loc='best')\n",
    "plt.title(r\"Trace of $\\mu_V$ & $\\sigma_V$\")\n",
    "\n",
    "plt.subplot(2, 2, 2)\n",
    "plt.plot(mu_WY_samples)\n",
    "plt.plot(sigma_WY_samples)\n",
    "plt.axhline(mu_WY_real.value, linestyle='--')\n",
    "plt.axhline(sigma_WY_real.value, color='g', linestyle='--')\n",
    "plt.legend([r\"$\\mu_{WY}$\", r\"$\\sigma_{WY}$\"], loc='best')\n",
    "plt.title(r\"Trace of $\\mu_{WY}$ & $\\sigma_{WY}$\")\n",
    "\n",
    "plt.suptitle(r\"Traces\", size=18)\n",
    "plt.show()"
   ]
  },
  {
   "cell_type": "code",
   "execution_count": 13,
   "metadata": {
    "collapsed": false
   },
   "outputs": [
    {
     "data": {
      "text/plain": [
       "-1678.9389376055892"
      ]
     },
     "execution_count": 13,
     "metadata": {},
     "output_type": "execute_result"
    }
   ],
   "source": [
    "flip.logp"
   ]
  },
  {
   "cell_type": "code",
   "execution_count": 11,
   "metadata": {
    "collapsed": false
   },
   "outputs": [
    {
     "name": "stdout",
     "output_type": "stream",
     "text": [
      "[1 2 0 2 2 0 0 2 0 2 0 0 2 2 0 2 0 2 2 0 1 2 0 2 0 0 2 0 2 0]\n",
      "[1 2 0 1 2 0 1 2 0 2 0 0 2 2 0 0 1 2 2 0 1 2 0 2 0 0 2 0 0 0]\n",
      "[1 2 0 1 2 0 1 2 0 2 0 0 2 2 0 0 1 2 2 0 1 2 0 2 0 0 2 0 0 0]\n"
     ]
    }
   ],
   "source": [
    "f = 30\n",
    "print S.value[:f]\n",
    "print flip.value[:f]\n",
    "print flip_real.value[:f]"
   ]
  },
  {
   "cell_type": "code",
   "execution_count": 48,
   "metadata": {
    "collapsed": false
   },
   "outputs": [
    {
     "data": {
      "text/plain": [
       "<pymc.StepMethods.Metropolis at 0x113dfa0d0>"
      ]
     },
     "execution_count": 48,
     "metadata": {},
     "output_type": "execute_result"
    }
   ],
   "source": [
    "s = mcmc.step_method_dict[W][0]\n",
    "s"
   ]
  },
  {
   "cell_type": "code",
   "execution_count": 49,
   "metadata": {
    "collapsed": false
   },
   "outputs": [
    {
     "data": {
      "text/plain": [
       "[<pymc.distributions.Normal 'W' at 0x114063d90>,\n",
       " <pymc.PyMCObjects.Stochastic 'flip' at 0x113e89c10>]"
      ]
     },
     "execution_count": 49,
     "metadata": {},
     "output_type": "execute_result"
    }
   ],
   "source": [
    "s.markov_blanket"
   ]
  },
  {
   "cell_type": "code",
   "execution_count": 50,
   "metadata": {
    "collapsed": false
   },
   "outputs": [
    {
     "data": {
      "text/plain": [
       "{<pymc.PyMCObjects.Stochastic 'flip' at 0x113e89c10>}"
      ]
     },
     "execution_count": 50,
     "metadata": {},
     "output_type": "execute_result"
    }
   ],
   "source": [
    "s.children"
   ]
  },
  {
   "cell_type": "code",
   "execution_count": 51,
   "metadata": {
    "collapsed": false
   },
   "outputs": [
    {
     "data": {
      "text/plain": [
       "{<pymc.PyMCObjects.Deterministic 'S' at 0x113e89950>,\n",
       " <pymc.PyMCObjects.Deterministic '(W_lt_sigma)' at 0x118d34350>,\n",
       " <pymc.PyMCObjects.Deterministic '(mu_lt_W)' at 0x113bbe510>,\n",
       " <pymc.PyMCObjects.Deterministic '(W_lt_V)' at 0x118d344d0>,\n",
       " <pymc.PyMCObjects.Deterministic '(mu_lt_W)' at 0x118d34b10>,\n",
       " <pymc.PyMCObjects.Deterministic '(W_lt_V)' at 0x118d34910>,\n",
       " <pymc.PyMCObjects.Deterministic '(mu_lt_W)' at 0x118d34c10>}"
      ]
     },
     "execution_count": 51,
     "metadata": {},
     "output_type": "execute_result"
    }
   ],
   "source": [
    "W.children"
   ]
  },
  {
   "cell_type": "code",
   "execution_count": 26,
   "metadata": {
    "collapsed": false
   },
   "outputs": [
    {
     "data": {
      "text/plain": [
       "{<pymc.PyMCObjects.Deterministic 'S_real' at 0x10e835850>}"
      ]
     },
     "execution_count": 26,
     "metadata": {},
     "output_type": "execute_result"
    }
   ],
   "source": [
    "W_real.children"
   ]
  },
  {
   "cell_type": "code",
   "execution_count": null,
   "metadata": {
    "collapsed": true
   },
   "outputs": [],
   "source": []
  }
 ],
 "metadata": {
  "kernelspec": {
   "display_name": "Python 2",
   "language": "python",
   "name": "python2"
  },
  "language_info": {
   "codemirror_mode": {
    "name": "ipython",
    "version": 2
   },
   "file_extension": ".py",
   "mimetype": "text/x-python",
   "name": "python",
   "nbconvert_exporter": "python",
   "pygments_lexer": "ipython2",
   "version": "2.7.10"
  }
 },
 "nbformat": 4,
 "nbformat_minor": 0
}
