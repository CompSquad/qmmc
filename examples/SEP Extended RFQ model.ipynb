{
 "cells": [
  {
   "cell_type": "code",
   "execution_count": 1,
   "metadata": {
    "collapsed": false
   },
   "outputs": [
    {
     "name": "stdout",
     "output_type": "stream",
     "text": [
      "Populating the interactive namespace from numpy and matplotlib\n"
     ]
    }
   ],
   "source": [
    "%load_ext autoreload\n",
    "%autoreload 2\n",
    "\n",
    "%pylab inline"
   ]
  },
  {
   "cell_type": "code",
   "execution_count": 2,
   "metadata": {
    "collapsed": true
   },
   "outputs": [],
   "source": [
    "import pandas as pd\n",
    "from qmmc import *"
   ]
  },
  {
   "cell_type": "markdown",
   "metadata": {},
   "source": [
    "## Format data"
   ]
  },
  {
   "cell_type": "markdown",
   "metadata": {},
   "source": [
    "Below we define a generative model and use it to sample RFQ outcomes."
   ]
  },
  {
   "cell_type": "code",
   "execution_count": 3,
   "metadata": {
    "collapsed": false
   },
   "outputs": [
    {
     "name": "stderr",
     "output_type": "stream",
     "text": [
      "/Users/rachez/anaconda/lib/python2.7/site-packages/pandas/io/parsers.py:1159: DtypeWarning: Columns (9,53) have mixed types. Specify dtype option on import or set low_memory=False.\n",
      "  data = self._reader.read(nrows)\n"
     ]
    }
   ],
   "source": [
    "df = pd.read_csv('/Users/rachez/ETSAnonymousPricesFull.csv')"
   ]
  },
  {
   "cell_type": "code",
   "execution_count": 4,
   "metadata": {
    "collapsed": false
   },
   "outputs": [],
   "source": [
    "idx_done = df[\"TradeStatus\"].values == \"Done\"\n",
    "idx_traded_away = df[\"TradeStatus\"].values == \"TradedAway\"\n",
    "idx_not_traded = df[\"TradeStatus\"].values == \"NotTraded\"\n",
    "df = df[idx_done + idx_traded_away + idx_not_traded]\n",
    "\n",
    "df[\"Y\"] = (df[\"BNPPAnsweredQuote\"] - df[\"RFQCompositePrice\"]) / np.abs(df[\"Bid2Mid\"])\n",
    "df = df[df[\"Y\"] < 2]\n",
    "df = df[df[\"Y\"] > -2]"
   ]
  },
  {
   "cell_type": "code",
   "execution_count": 5,
   "metadata": {
    "collapsed": false
   },
   "outputs": [],
   "source": [
    "n = 3\n",
    "dd = df[df[\"NbDealers\"] == n + 1]\n",
    "\n",
    "Y_real = dd[\"Y\"].values\n",
    "\n",
    "I = dd[\"TradeStatus\"].values\n",
    "II = np.empty(I.shape[0], dtype=int)\n",
    "II[I == \"Done\"] = 2\n",
    "II[I == \"TradedAway\"] = 1\n",
    "II[I == \"NotTraded\"] = 0\n",
    "I_real = II"
   ]
  },
  {
   "cell_type": "code",
   "execution_count": 6,
   "metadata": {
    "collapsed": false
   },
   "outputs": [],
   "source": [
    "m = 5000\n",
    "n_samples = Y_real.shape[0]\n",
    "idx = np.random.randint(0, n_samples, m)"
   ]
  },
  {
   "cell_type": "code",
   "execution_count": 7,
   "metadata": {
    "collapsed": true
   },
   "outputs": [],
   "source": [
    "Y_real = Y_real[idx]\n",
    "I_real = I_real[idx]"
   ]
  },
  {
   "cell_type": "markdown",
   "metadata": {},
   "source": [
    "## Estimate model parameters from data"
   ]
  },
  {
   "cell_type": "markdown",
   "metadata": {},
   "source": [
    "Using the same graphical model - with different initial values for latent variables and parameters- we now use a custom Gibbs sampler to recover the parameters."
   ]
  },
  {
   "cell_type": "code",
   "execution_count": 9,
   "metadata": {
    "collapsed": false
   },
   "outputs": [],
   "source": [
    "# Priors\n",
    "mu_0, sigma_0 = Value(0), Value(10)\n",
    "scale_0, shape_0 = Value(3), Value(3)\n",
    "a_0, b_0 = Value(1), Value(2)\n",
    "\n",
    "# Parameters\n",
    "mu_V = Normal(mu_0, sigma_0, value=-1, name='mu_V')\n",
    "sigma_V = InvGamma(scale_0, shape_0, value=5, name='sigma_V')\n",
    "\n",
    "mu_W = Normal(mu_0, sigma_0, value=1, name='mu_W')\n",
    "sigma_W = InvGamma(scale_0, shape_0, value=5, name='sigma_W')\n",
    "nu_W = Normal(mu_0, sigma_0, value=1, name='nu_W')\n",
    "tau_W = InvGamma(scale_0, shape_0, value=5, name='tau_W')\n",
    "\n",
    "p = Beta(a_0, b_0, value=0.2, name='p')\n",
    "\n",
    "# Variables\n",
    "k = np.empty(m, dtype=object)\n",
    "V = np.empty(m, dtype=object)\n",
    "W = np.empty(m, dtype=object)\n",
    "Y = np.empty(m, dtype=object)\n",
    "I = np.empty(m, dtype=object)\n",
    "for i in xrange(m):\n",
    "    k[i] = Binomial(p, Value(n), name='k_%d' % i)\n",
    "    V[i] = Normal(mu_V, sigma_V, name='V_%d' % i)\n",
    "    W[i] = BernoulliSEP(mu_W, sigma_W, nu_W, tau_W, k[i], name='W_%d' % i)\n",
    "    Y[i] = Value(Y_real[i])\n",
    "    \n",
    "    @Function\n",
    "    def S_i(Y=Y[i], V=V[i], W=W[i]):\n",
    "        \n",
    "        if len(W) > 0:\n",
    "            C = np.min(W)\n",
    "        else:\n",
    "            C = np.inf\n",
    "        \n",
    "        if Y <= np.minimum(C, V): return 2\n",
    "        if C <= np.minimum(Y, V): return 1\n",
    "        if V < np.minimum(C, Y): return 0\n",
    "    \n",
    "    I[i] = BernoulliFlip(Value(0.0), S_i, k=3, value=I_real[i], observed=True, name='I_%d' % i)"
   ]
  },
  {
   "cell_type": "code",
   "execution_count": 10,
   "metadata": {
    "collapsed": false
   },
   "outputs": [],
   "source": [
    "all_variables = [mu_V, sigma_V, mu_W, sigma_W, nu_W, tau_W]\n",
    "all_variables.extend(V)\n",
    "all_variables.extend(W)\n",
    "all_variables.extend(k)\n",
    "all_variables.extend([p])"
   ]
  },
  {
   "cell_type": "code",
   "execution_count": 11,
   "metadata": {
    "collapsed": false
   },
   "outputs": [],
   "source": [
    "kvw_samplers = np.empty(m, dtype=object)\n",
    "for i in xrange(m):\n",
    "    kvw_sampler = KVWSampler(k[i], V[i], W[i], Y[i], I[i])\n",
    "    kvw_samplers[i] = kvw_sampler\n",
    "p_sampler = NormalMHSampler(p, scaling=0.01)\n",
    "all_samplers = list(kvw_samplers)\n",
    "all_samplers.append(p_sampler)"
   ]
  },
  {
   "cell_type": "code",
   "execution_count": 12,
   "metadata": {
    "collapsed": false
   },
   "outputs": [],
   "source": [
    "model = Model(variables=all_variables, samplers=all_samplers)"
   ]
  },
  {
   "cell_type": "code",
   "execution_count": null,
   "metadata": {
    "collapsed": false,
    "scrolled": true
   },
   "outputs": [
    {
     "name": "stdout",
     "output_type": "stream",
     "text": [
      "0% 0% 0% 0% 0% 1% 1% 1% 1% "
     ]
    }
   ],
   "source": [
    "%%time\n",
    "model.estimate(4500)"
   ]
  },
  {
   "cell_type": "code",
   "execution_count": null,
   "metadata": {
    "collapsed": false
   },
   "outputs": [],
   "source": [
    "plt.figure(figsize=(15, 10))\n",
    "\n",
    "plt.subplot(2, 2, 1)\n",
    "plt.plot(model.logp_hist)\n",
    "plt.title(\"Complete likelihood trace\")\n",
    "\n",
    "plt.subplot(2, 2, 2)\n",
    "plt.plot(model.samplers['mu_V'].get_history())\n",
    "plt.plot(model.samplers['sigma_V'].get_history())\n",
    "plt.legend([r\"$\\mu_V$\", r\"$\\sigma_V$\"], loc='best')\n",
    "plt.title(r\"Trace of $\\mu_V$ & $\\sigma_V$\")\n",
    "\n",
    "plt.subplot(2, 2, 3)\n",
    "plt.plot(model.samplers['mu_W'].get_history())\n",
    "plt.plot(model.samplers['sigma_W'].get_history())\n",
    "plt.plot(model.samplers['nu_W'].get_history())\n",
    "plt.plot(model.samplers['tau_W'].get_history())\n",
    "plt.legend([r\"$\\mu_W$\", r\"$\\sigma_W$\", r\"$\\nu_W$\", r\"$\\tau_W$\"], loc='best')\n",
    "plt.title(r\"Trace of $\\nu_W$ & $\\tau_W$\")\n",
    "\n",
    "plt.subplot(2, 2, 4)\n",
    "plt.plot(model.samplers['p'].get_history())\n",
    "plt.title(r\"Trace of $p$\")\n",
    "\n",
    "plt.suptitle(r\"Traces\", size=18)\n",
    "plt.show()"
   ]
  },
  {
   "cell_type": "code",
   "execution_count": 23,
   "metadata": {
    "collapsed": false
   },
   "outputs": [
    {
     "data": {
      "image/png": "[encoded data removed]",
      "text/plain": [
       "<matplotlib.figure.Figure at 0x12a60d490>"
      ]
     },
     "metadata": {},
     "output_type": "display_data"
    }
   ],
   "source": [
    "from qmmc.distrib import sep_logpdf\n",
    "\n",
    "xx = np.arange(-15, 10, 0.1)\n",
    "\n",
    "plt.plot(xx, np.exp(sep_logpdf(xx, mu_W.value, sigma_W.value, nu_W.value, tau_W.value)), color='b')\n",
    "plt.plot(xx, norm.pdf(xx, mu_V.value, sigma_V.value), color='r')\n",
    "\n",
    "plt.show() "
   ]
  },
  {
   "cell_type": "code",
   "execution_count": null,
   "metadata": {
    "collapsed": true
   },
   "outputs": [],
   "source": []
  }
 ],
 "metadata": {
  "kernelspec": {
   "display_name": "Python 2",
   "language": "python",
   "name": "python2"
  },
  "language_info": {
   "codemirror_mode": {
    "name": "ipython",
    "version": 2
   },
   "file_extension": ".py",
   "mimetype": "text/x-python",
   "name": "python",
   "nbconvert_exporter": "python",
   "pygments_lexer": "ipython2",
   "version": "2.7.9"
  }
 },
 "nbformat": 4,
 "nbformat_minor": 0
}
